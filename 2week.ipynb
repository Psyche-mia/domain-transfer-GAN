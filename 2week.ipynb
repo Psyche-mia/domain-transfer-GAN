{
 "cells": [
  {
   "cell_type": "code",
   "execution_count": 151,
   "metadata": {},
   "outputs": [],
   "source": [
    "import numpy as np\n",
    "import scipy as sp\n",
    "import torch\n",
    "import matplotlib.pyplot as plt\n",
    "import sys\n",
    "sys.path.append('conditional_gan/')\n",
    "\n",
    "import datetime"
   ]
  },
  {
   "cell_type": "code",
   "execution_count": 2,
   "metadata": {},
   "outputs": [],
   "source": [
    "import torch.utils.data\n",
    "import os.path\n",
    "import random\n",
    "import torchvision.transforms as transforms\n",
    "import numpy as np\n",
    "from numpy import inf\n",
    "\n",
    "from skimage.transform import resize\n",
    "from matplotlib.pyplot import figure\n"
   ]
  },
  {
   "cell_type": "code",
   "execution_count": 3,
   "metadata": {},
   "outputs": [],
   "source": [
    "test_data_input = dict(np.load('datasets/livneh/testA.npz'))\n",
    "test_data_ouput = dict(np.load('datasets/livneh/testB.npz'))"
   ]
  },
  {
   "cell_type": "code",
   "execution_count": 160,
   "metadata": {},
   "outputs": [],
   "source": [
    "starting_day = datetime.date(1900, 1, 1) + datetime.timedelta(days = 37620 + 4018 - 804)"
   ]
  },
  {
   "cell_type": "code",
   "execution_count": 161,
   "metadata": {},
   "outputs": [
    {
     "data": {
      "text/plain": [
       "datetime.date(2011, 10, 20)"
      ]
     },
     "execution_count": 161,
     "metadata": {},
     "output_type": "execute_result"
    }
   ],
   "source": [
    "starting_day"
   ]
  },
  {
   "cell_type": "code",
   "execution_count": 4,
   "metadata": {},
   "outputs": [],
   "source": [
    "model_path = \"conditional_gan/SavedModels/cGanResNoMask\""
   ]
  },
  {
   "cell_type": "code",
   "execution_count": 5,
   "metadata": {},
   "outputs": [
    {
     "data": {
      "text/plain": [
       "['variables', 'data', 'metadata']"
      ]
     },
     "execution_count": 5,
     "metadata": {},
     "output_type": "execute_result"
    }
   ],
   "source": [
    "test_data_input.keys()"
   ]
  },
  {
   "cell_type": "code",
   "execution_count": 6,
   "metadata": {},
   "outputs": [
    {
     "data": {
      "text/plain": [
       "(804, 321, 321, 4)"
      ]
     },
     "execution_count": 6,
     "metadata": {},
     "output_type": "execute_result"
    }
   ],
   "source": [
    "test_data_input['data'].shape"
   ]
  },
  {
   "cell_type": "code",
   "execution_count": 7,
   "metadata": {},
   "outputs": [
    {
     "data": {
      "text/plain": [
       "(804, 321, 321, 1)"
      ]
     },
     "execution_count": 7,
     "metadata": {},
     "output_type": "execute_result"
    }
   ],
   "source": [
    "test_data_ouput['data'].shape"
   ]
  },
  {
   "cell_type": "code",
   "execution_count": 8,
   "metadata": {},
   "outputs": [],
   "source": [
    "data_A = test_data_input['data']\n",
    "data_B = test_data_ouput['data']"
   ]
  },
  {
   "cell_type": "code",
   "execution_count": 32,
   "metadata": {},
   "outputs": [],
   "source": []
  },
  {
   "cell_type": "code",
   "execution_count": 9,
   "metadata": {},
   "outputs": [],
   "source": [
    "def take_two_weeks(input_data, start_date):\n",
    "    return input_data[start_date:start_date + 14, :, :, :]"
   ]
  },
  {
   "cell_type": "code",
   "execution_count": 10,
   "metadata": {},
   "outputs": [
    {
     "data": {
      "text/plain": [
       "(14, 321, 321, 1)"
      ]
     },
     "execution_count": 10,
     "metadata": {},
     "output_type": "execute_result"
    }
   ],
   "source": [
    "take_two_weeks(test_data_ouput['data'], 10).shape"
   ]
  },
  {
   "cell_type": "code",
   "execution_count": 11,
   "metadata": {},
   "outputs": [],
   "source": [
    "from networks import define_G"
   ]
  },
  {
   "cell_type": "code",
   "execution_count": 12,
   "metadata": {},
   "outputs": [
    {
     "data": {
      "text/plain": [
       "ResnetGenerator(\n",
       "  (model): Sequential(\n",
       "    (0): ReflectionPad2d((3, 3, 3, 3))\n",
       "    (1): Conv2d(3, 32, kernel_size=(7, 7), stride=(1, 1))\n",
       "    (2): InstanceNorm()\n",
       "    (3): ReLU(inplace)\n",
       "    (4): Conv2d(32, 64, kernel_size=(3, 3), stride=(1, 1), padding=(1, 1))\n",
       "    (5): InstanceNorm()\n",
       "    (6): ReLU(inplace)\n",
       "    (7): Conv2d(64, 128, kernel_size=(3, 3), stride=(2, 2), padding=(1, 1))\n",
       "    (8): InstanceNorm()\n",
       "    (9): ReLU(inplace)\n",
       "    (10): ResnetBlock(\n",
       "      (conv_block): Sequential(\n",
       "        (0): ReflectionPad2d((1, 1, 1, 1))\n",
       "        (1): Conv2d(128, 128, kernel_size=(3, 3), stride=(1, 1))\n",
       "        (2): ReLU(inplace)\n",
       "        (3): ReflectionPad2d((1, 1, 1, 1))\n",
       "        (4): Conv2d(128, 128, kernel_size=(3, 3), stride=(1, 1))\n",
       "        (5): InstanceNorm()\n",
       "      )\n",
       "      (relu): ReLU(inplace)\n",
       "    )\n",
       "    (11): ResnetBlock(\n",
       "      (conv_block): Sequential(\n",
       "        (0): ReflectionPad2d((1, 1, 1, 1))\n",
       "        (1): Conv2d(128, 128, kernel_size=(3, 3), stride=(1, 1))\n",
       "        (2): ReLU(inplace)\n",
       "        (3): ReflectionPad2d((1, 1, 1, 1))\n",
       "        (4): Conv2d(128, 128, kernel_size=(3, 3), stride=(1, 1))\n",
       "        (5): InstanceNorm()\n",
       "      )\n",
       "      (relu): ReLU(inplace)\n",
       "    )\n",
       "    (12): ResnetBlock(\n",
       "      (conv_block): Sequential(\n",
       "        (0): ReflectionPad2d((1, 1, 1, 1))\n",
       "        (1): Conv2d(128, 128, kernel_size=(3, 3), stride=(1, 1))\n",
       "        (2): ReLU(inplace)\n",
       "        (3): ReflectionPad2d((1, 1, 1, 1))\n",
       "        (4): Conv2d(128, 128, kernel_size=(3, 3), stride=(1, 1))\n",
       "        (5): InstanceNorm()\n",
       "      )\n",
       "      (relu): ReLU(inplace)\n",
       "    )\n",
       "    (13): ConvTranspose2d(128, 64, kernel_size=(3, 3), stride=(2, 2), padding=(1, 1), output_padding=(1, 1))\n",
       "    (14): InstanceNorm()\n",
       "    (15): ReLU(inplace)\n",
       "    (16): Conv2d(64, 32, kernel_size=(3, 3), stride=(1, 1), padding=(1, 1))\n",
       "    (17): InstanceNorm()\n",
       "    (18): ReLU(inplace)\n",
       "    (19): Conv2d(32, 1, kernel_size=(7, 7), stride=(1, 1), padding=(3, 3))\n",
       "    (20): Tanh()\n",
       "  )\n",
       ")"
      ]
     },
     "execution_count": 12,
     "metadata": {},
     "output_type": "execute_result"
    }
   ],
   "source": [
    "model = define_G(3, 1, 32, 'instance', 'resnet', False, [0])\n",
    "model"
   ]
  },
  {
   "cell_type": "code",
   "execution_count": 13,
   "metadata": {},
   "outputs": [
    {
     "data": {
      "text/plain": [
       "ResnetGenerator(\n",
       "  (model): Sequential(\n",
       "    (0): ReflectionPad2d((3, 3, 3, 3))\n",
       "    (1): Conv2d(3, 32, kernel_size=(7, 7), stride=(1, 1))\n",
       "    (2): InstanceNorm()\n",
       "    (3): ReLU(inplace)\n",
       "    (4): Conv2d(32, 64, kernel_size=(3, 3), stride=(1, 1), padding=(1, 1))\n",
       "    (5): InstanceNorm()\n",
       "    (6): ReLU(inplace)\n",
       "    (7): Conv2d(64, 128, kernel_size=(3, 3), stride=(2, 2), padding=(1, 1))\n",
       "    (8): InstanceNorm()\n",
       "    (9): ReLU(inplace)\n",
       "    (10): ResnetBlock(\n",
       "      (conv_block): Sequential(\n",
       "        (0): ReflectionPad2d((1, 1, 1, 1))\n",
       "        (1): Conv2d(128, 128, kernel_size=(3, 3), stride=(1, 1))\n",
       "        (2): ReLU(inplace)\n",
       "        (3): ReflectionPad2d((1, 1, 1, 1))\n",
       "        (4): Conv2d(128, 128, kernel_size=(3, 3), stride=(1, 1))\n",
       "        (5): InstanceNorm()\n",
       "      )\n",
       "      (relu): ReLU(inplace)\n",
       "    )\n",
       "    (11): ResnetBlock(\n",
       "      (conv_block): Sequential(\n",
       "        (0): ReflectionPad2d((1, 1, 1, 1))\n",
       "        (1): Conv2d(128, 128, kernel_size=(3, 3), stride=(1, 1))\n",
       "        (2): ReLU(inplace)\n",
       "        (3): ReflectionPad2d((1, 1, 1, 1))\n",
       "        (4): Conv2d(128, 128, kernel_size=(3, 3), stride=(1, 1))\n",
       "        (5): InstanceNorm()\n",
       "      )\n",
       "      (relu): ReLU(inplace)\n",
       "    )\n",
       "    (12): ResnetBlock(\n",
       "      (conv_block): Sequential(\n",
       "        (0): ReflectionPad2d((1, 1, 1, 1))\n",
       "        (1): Conv2d(128, 128, kernel_size=(3, 3), stride=(1, 1))\n",
       "        (2): ReLU(inplace)\n",
       "        (3): ReflectionPad2d((1, 1, 1, 1))\n",
       "        (4): Conv2d(128, 128, kernel_size=(3, 3), stride=(1, 1))\n",
       "        (5): InstanceNorm()\n",
       "      )\n",
       "      (relu): ReLU(inplace)\n",
       "    )\n",
       "    (13): ConvTranspose2d(128, 64, kernel_size=(3, 3), stride=(2, 2), padding=(1, 1), output_padding=(1, 1))\n",
       "    (14): InstanceNorm()\n",
       "    (15): ReLU(inplace)\n",
       "    (16): Conv2d(64, 32, kernel_size=(3, 3), stride=(1, 1), padding=(1, 1))\n",
       "    (17): InstanceNorm()\n",
       "    (18): ReLU(inplace)\n",
       "    (19): Conv2d(32, 1, kernel_size=(7, 7), stride=(1, 1), padding=(3, 3))\n",
       "    (20): Tanh()\n",
       "  )\n",
       ")"
      ]
     },
     "execution_count": 13,
     "metadata": {},
     "output_type": "execute_result"
    }
   ],
   "source": [
    "model.load_state_dict(torch.load(model_path)['netG_A_B'])\n",
    "model.eval()"
   ]
  },
  {
   "cell_type": "code",
   "execution_count": 14,
   "metadata": {},
   "outputs": [
    {
     "data": {
      "text/plain": [
       "tensor([0., 0., 0., 0., 0., 0., 0., 0., 0., 0., 0., 0., 0., 0., 0., 0., 0., 0., 0., 0., 0., 0., 0., 0.,\n",
       "        0., 0., 0., 0., 0., 0., 0., 0., 0., 0., 0., 0., 0., 0., 0., 0., 0., 0., 0., 0., 0., 0., 0., 0.,\n",
       "        0., 0., 0., 0., 0., 0., 0., 0., 0., 0., 0., 0., 0., 0., 0., 0., 0., 0., 0., 0., 0., 0., 0., 0.,\n",
       "        0., 0., 0., 0., 0., 0., 0., 0., 0., 0., 0., 0., 0., 0., 0., 0., 0., 0., 0., 0., 0., 0., 0., 0.,\n",
       "        0., 0., 0., 0.])"
      ]
     },
     "execution_count": 14,
     "metadata": {},
     "output_type": "execute_result"
    }
   ],
   "source": [
    "torch.histc(torch.from_numpy(test_data_ouput['data'][1,:,:,:]))"
   ]
  },
  {
   "cell_type": "code",
   "execution_count": null,
   "metadata": {},
   "outputs": [],
   "source": []
  },
  {
   "cell_type": "code",
   "execution_count": null,
   "metadata": {},
   "outputs": [],
   "source": []
  },
  {
   "cell_type": "code",
   "execution_count": 15,
   "metadata": {},
   "outputs": [
    {
     "data": {
      "text/plain": [
       "<Figure size 80x80 with 0 Axes>"
      ]
     },
     "execution_count": 15,
     "metadata": {},
     "output_type": "execute_result"
    },
    {
     "data": {
      "text/plain": [
       "<Figure size 80x80 with 0 Axes>"
      ]
     },
     "metadata": {},
     "output_type": "display_data"
    }
   ],
   "source": [
    "figure(num=None, figsize=(1, 1), dpi=80, facecolor='w', edgecolor='k')"
   ]
  },
  {
   "cell_type": "code",
   "execution_count": 16,
   "metadata": {},
   "outputs": [],
   "source": [
    "#normalizing data\n",
    "def arr_to_input(arr):\n",
    "    arr = np.nan_to_num(arr)\n",
    "    if arr.ndim == 3:\n",
    "        arr = np.expand_dims(arr, axis=2)\n",
    "    means = np.nanmean(arr, axis=(0,1,2))\n",
    "    # scale and shift to [-1,1]\n",
    "    arr = -1 + 2 * (arr - arr.min((1,2))[:, np.newaxis,np.newaxis]) / (arr.max((1,2))[:, np.newaxis,np.newaxis] - arr.min((1,2))[:, np.newaxis,np.newaxis])\n",
    "    arr[np.isnan(arr)] = -1; arr[arr == inf] = -1; arr[arr == -inf] = -1\n",
    "    if 64 is not None:\n",
    "        new_arr = []\n",
    "        #print \"Resizing data to %d\" % 64\n",
    "        for x in arr:\n",
    "            new_arr.append(resize(x, (64,64)))\n",
    "        arr = np.stack(new_arr)\n",
    "    # convert data from b,0,1,c to b,c,0,1\n",
    "    arr = np.transpose(arr, (0,3,1,2))\n",
    "    \n",
    "    return arr.astype('float32')"
   ]
  },
  {
   "cell_type": "code",
   "execution_count": 17,
   "metadata": {},
   "outputs": [],
   "source": [
    "def hist_kl_div(tenA, tenB, numbins):\n",
    "    min_elem = min(torch.min(tenA).item(), torch.min(tenB).item())\n",
    "    max_elem = max(torch.max(tenA).item(), torch.max(tenB).item())\n",
    "    #print(min_elem, max_elem)\n",
    "    histA = torch.histc(tenA.cpu(), numbins, min_elem, max_elem)\n",
    "    histB = torch.histc(tenB.cpu(), numbins, min_elem, max_elem)\n",
    "    eps = 1e-4\n",
    "    histA = (histA+eps)*1.0/torch.sum(histA)\n",
    "    histB = (histB+eps)*1.0/torch.sum(histB)\n",
    "    return torch.sum(histA * (torch.log(histA) - torch.log(histB)))"
   ]
  },
  {
   "cell_type": "code",
   "execution_count": 187,
   "metadata": {},
   "outputs": [],
   "source": [
    "def plot_hist_diffs(start_date, inputA, inputB, nan_mask):\n",
    "    fake_B = model(torch.from_numpy(arr_to_input(take_two_weeks(inputA, start_date))[:,0:3,:,:]).cuda()).cpu()\n",
    "    real_B = torch.from_numpy(arr_to_input(take_two_weeks(inputB, start_date)))\n",
    "    curr_day = 0\n",
    "    #print(real_B.shape)\n",
    "    mask = np.ravel(np.tile(nan_mask, (real_B.shape[0], 1, 1, 1)))\n",
    "    #for images in zip(real_B, fake_B):\n",
    "    real_im = np.ravel(real_B.detach().numpy())*mask\n",
    "    fake_im = np.ravel(fake_B.detach().numpy())*mask\n",
    "    \n",
    "    real_im = real_im[~np.isnan(real_im)]\n",
    "    fake_im = fake_im[~np.isnan(fake_im)]\n",
    "    \n",
    "    fig, ax = plt.subplots(figsize=(20, 10))\n",
    "    ax.hist(real_im - fake_im, 1000, None, ec='blue',  histtype='step', label='diffs')\n",
    "    ax.legend(loc='upper left')\n",
    "    title = \"Histogram of data binned from \" + str(starting_day + datetime.timedelta(days = start_date)) + \" to \" + str(starting_day + datetime.timedelta(days = start_date + 14))\n",
    "    ax.set_title(title)"
   ]
  },
  {
   "cell_type": "code",
   "execution_count": 188,
   "metadata": {},
   "outputs": [],
   "source": [
    "def plot_histograms(start_date, inputA, inputB, nan_mask):\n",
    "    fake_B = model(torch.from_numpy(arr_to_input(take_two_weeks(inputA, start_date))[:,0:3,:,:]).cuda()).cpu()\n",
    "    real_B = torch.from_numpy(arr_to_input(take_two_weeks(inputB, start_date)))\n",
    "    curr_day = 0\n",
    "    #print(real_B.shape)\n",
    "    mask = np.ravel(np.tile(nan_mask, (real_B.shape[0], 1, 1, 1)))\n",
    "    #for images in zip(real_B, fake_B):\n",
    "    real_im = np.ravel(real_B.detach().numpy())*mask\n",
    "    fake_im = np.ravel(fake_B.detach().numpy())*mask\n",
    "    \n",
    "    real_im = real_im[~np.isnan(real_im)]\n",
    "    fake_im = fake_im[~np.isnan(fake_im)]\n",
    "    \n",
    "    \n",
    "    \n",
    "    \n",
    "    \n",
    "    fig, ax = plt.subplots(figsize=(20, 10))\n",
    "    ax.hist(real_im, 1000, None, ec='blue',  histtype='step', label='Real Data')\n",
    "    ax.hist(fake_im, 1000, None, ec='green',  histtype='step', label='Generated Data')\n",
    "    ax.legend(loc='upper left')\n",
    "    title = \"Histogram of data binned from \" + str(starting_day + datetime.timedelta(days = start_date)) + \" to \" + str(starting_day + datetime.timedelta(days = start_date + 14))\n",
    "    ax.set_title(title)\n",
    "            \n",
    "#     fig, ax = plt.subplots(nrows=14, ncols=1, figsize=(15, 45))\n",
    "#     divergences = []\n",
    "#     for row in ax:\n",
    "#         colors = ['blue', 'lime']\n",
    "#         real_im = np.ravel(real_B[curr_day, :,:,:].detach().numpy())\n",
    "#         fake_im = np.ravel(fake_B[curr_day, :,:,:].detach().numpy())\n",
    "#         common_params = dict(bins=100, range=(min(np.min(real_im), np.min(fake_im)), max(np.max(real_im), np.max(fake_im))), normed=True, color = colors, label = ['real', 'fake'])\n",
    "#         #col.title = 'Histograms of Real vs Fake data on day ' + str(start_date + curr_day)\n",
    "#         row.hist((real_im, fake_im), **common_params)\n",
    "#         row.legend(prop={'size': 10})\n",
    "\n",
    "        \n",
    "#         divergences.append(hist_kl_div(real_B[curr_day, :,:,:].detach(), fake_B[curr_day, :,:,:].detach(), 100))\n",
    "#         curr_day +=1\n",
    "    #return divergences"
   ]
  },
  {
   "cell_type": "code",
   "execution_count": 189,
   "metadata": {},
   "outputs": [],
   "source": [
    "mask = np.load(\"OceanMask.npy\")\n",
    "mask = resize(mask.astype(np.float), (64,64))\n",
    "mask[mask == 1] = np.nan\n",
    "mask = mask + 1"
   ]
  },
  {
   "cell_type": "code",
   "execution_count": null,
   "metadata": {},
   "outputs": [],
   "source": []
  },
  {
   "cell_type": "code",
   "execution_count": null,
   "metadata": {},
   "outputs": [],
   "source": []
  },
  {
   "cell_type": "code",
   "execution_count": 190,
   "metadata": {},
   "outputs": [
    {
     "data": {
      "image/png": "[encoded data removed]",
      "text/plain": [
       "<Figure size 1440x720 with 1 Axes>"
      ]
     },
     "metadata": {
      "needs_background": "light"
     },
     "output_type": "display_data"
    }
   ],
   "source": [
    "plot_hist_diffs(10, data_A, data_B, mask)"
   ]
  },
  {
   "cell_type": "code",
   "execution_count": null,
   "metadata": {},
   "outputs": [],
   "source": []
  },
  {
   "cell_type": "code",
   "execution_count": 191,
   "metadata": {},
   "outputs": [
    {
     "data": {
      "image/png": "[encoded data removed]",
      "text/plain": [
       "<Figure size 1440x720 with 1 Axes>"
      ]
     },
     "metadata": {
      "needs_background": "light"
     },
     "output_type": "display_data"
    }
   ],
   "source": [
    "plot_histograms(10, data_A, data_B, mask)"
   ]
  },
  {
   "cell_type": "code",
   "execution_count": null,
   "metadata": {},
   "outputs": [],
   "source": []
  },
  {
   "cell_type": "code",
   "execution_count": 131,
   "metadata": {},
   "outputs": [],
   "source": [
    "def pearson_coeff(start_date, inputA, inputB):\n",
    "    fakeB = model(torch.from_numpy(arr_to_input(take_two_weeks(inputA, start_date))[:,0:3,:,:]).cuda()).detach().cpu().numpy()\n",
    "    realB = torch.from_numpy(arr_to_input(take_two_weeks(inputB, start_date))).numpy()\n",
    "    \n",
    "    xbar = np.mean(fakeB, axis=0)\n",
    "    ybar = np.mean(realB, axis=0)\n",
    "    xSTDev = np.std(fakeB, axis=0)\n",
    "    ySTDev = np.std(realB, axis=0)\n",
    "    r = np.mean(((fakeB - xbar)/(xSTDev)) * ((realB - ybar)/(ySTDev)), axis = 0)\n",
    "    return r\n",
    "    "
   ]
  },
  {
   "cell_type": "code",
   "execution_count": null,
   "metadata": {},
   "outputs": [],
   "source": []
  },
  {
   "cell_type": "code",
   "execution_count": null,
   "metadata": {},
   "outputs": [],
   "source": []
  },
  {
   "cell_type": "code",
   "execution_count": 197,
   "metadata": {},
   "outputs": [
    {
     "name": "stderr",
     "output_type": "stream",
     "text": [
      "/home/ashray/anaconda3/envs/torch27/lib/python2.7/site-packages/ipykernel_launcher.py:9: RuntimeWarning: divide by zero encountered in divide\n",
      "  if __name__ == '__main__':\n",
      "/home/ashray/anaconda3/envs/torch27/lib/python2.7/site-packages/ipykernel_launcher.py:9: RuntimeWarning: invalid value encountered in divide\n",
      "  if __name__ == '__main__':\n"
     ]
    },
    {
     "data": {
      "text/plain": [
       "<matplotlib.colorbar.Colorbar at 0x7fde21e38710>"
      ]
     },
     "execution_count": 197,
     "metadata": {},
     "output_type": "execute_result"
    },
    {
     "data": {
      "image/png": "[encoded data removed]",
      "text/plain": [
       "<Figure size 288x288 with 2 Axes>"
      ]
     },
     "metadata": {
      "needs_background": "light"
     },
     "output_type": "display_data"
    }
   ],
   "source": [
    "ax = plt.matshow(np.nan_to_num(pearson_coeff(10, data_A, data_B))[0,:,:], cmap = 'gray')\n",
    "plt.colorbar(ax)\n"
   ]
  },
  {
   "cell_type": "code",
   "execution_count": null,
   "metadata": {},
   "outputs": [],
   "source": []
  },
  {
   "cell_type": "code",
   "execution_count": null,
   "metadata": {},
   "outputs": [],
   "source": []
  },
  {
   "cell_type": "code",
   "execution_count": null,
   "metadata": {},
   "outputs": [],
   "source": []
  },
  {
   "cell_type": "code",
   "execution_count": null,
   "metadata": {},
   "outputs": [],
   "source": []
  },
  {
   "cell_type": "code",
   "execution_count": null,
   "metadata": {},
   "outputs": [],
   "source": []
  },
  {
   "cell_type": "code",
   "execution_count": null,
   "metadata": {},
   "outputs": [],
   "source": []
  },
  {
   "cell_type": "code",
   "execution_count": null,
   "metadata": {},
   "outputs": [],
   "source": []
  }
 ],
 "metadata": {
  "kernelspec": {
   "display_name": "Python 2",
   "language": "python",
   "name": "python2"
  },
  "language_info": {
   "codemirror_mode": {
    "name": "ipython",
    "version": 2
   },
   "file_extension": ".py",
   "mimetype": "text/x-python",
   "name": "python",
   "nbconvert_exporter": "python",
   "pygments_lexer": "ipython2",
   "version": "2.7.15"
  }
 },
 "nbformat": 4,
 "nbformat_minor": 2
}
