{
 "cells": [
  {
   "cell_type": "markdown",
   "metadata": {},
   "source": [
    "### Import Livneh reanalysis data"
   ]
  },
  {
   "cell_type": "code",
   "execution_count": 22,
   "metadata": {},
   "outputs": [],
   "source": [
    "import numpy as np\n",
    "import scipy as sp\n",
    "import netCDF4 as nc4"
   ]
  },
  {
   "cell_type": "code",
   "execution_count": 2,
   "metadata": {},
   "outputs": [],
   "source": [
    "datapath_input = '/data1/adalbert/livneh/Livneh.AtmVar.CA.4km.2003_2013.nc'\n",
    "datapath_output= '/data1/adalbert/livneh/Livneh.LndVar.CA.4km.2003_2013.nc'"
   ]
  },
  {
   "cell_type": "code",
   "execution_count": 6,
   "metadata": {},
   "outputs": [],
   "source": [
    "f_in = nc4.Dataset(datapath_input,'r')\n",
    "f_out= nc4.Dataset(datapath_output,'r')"
   ]
  },
  {
   "cell_type": "code",
   "execution_count": 13,
   "metadata": {},
   "outputs": [
    {
     "data": {
      "text/plain": [
       "[u'lon', u'lat', u'time', u'Prec', u'Tmax', u'Tmin', u'wind']"
      ]
     },
     "execution_count": 13,
     "metadata": {},
     "output_type": "execute_result"
    }
   ],
   "source": [
    "f_in.variables.keys()"
   ]
  },
  {
   "cell_type": "code",
   "execution_count": 9,
   "metadata": {},
   "outputs": [
    {
     "data": {
      "text/plain": [
       "[u'lon',\n",
       " u'lat',\n",
       " u'lev',\n",
       " u'time',\n",
       " u'Baseflow',\n",
       " u'GroundHeat',\n",
       " u'LatentHeat',\n",
       " u'NetRad',\n",
       " u'PETLong',\n",
       " u'PETNatVeg',\n",
       " u'PETShort',\n",
       " u'Runoff',\n",
       " u'SWE',\n",
       " u'SensibleHeat',\n",
       " u'SoilMoist',\n",
       " u'TotalET',\n",
       " u'WDEW']"
      ]
     },
     "execution_count": 9,
     "metadata": {},
     "output_type": "execute_result"
    }
   ],
   "source": [
    "f_out.variables.keys()"
   ]
  },
  {
   "cell_type": "code",
   "execution_count": 19,
   "metadata": {},
   "outputs": [],
   "source": [
    "# Extract data from NetCDF file\n",
    "def extract_data(nc_fid, fields):\n",
    "    lats = nc_fid.variables['lat'][:]  # extract/copy the data\n",
    "    lons = nc_fid.variables['lon'][:]\n",
    "    time = nc_fid.variables['time'][:]\n",
    "    field = []\n",
    "    for f in fields:\n",
    "        field.append(nc_fid.variables[f][:])\n",
    "    field = np.stack(field)\n",
    "    return lats, lons, time, field"
   ]
  },
  {
   "cell_type": "code",
   "execution_count": 29,
   "metadata": {},
   "outputs": [
    {
     "name": "stderr",
     "output_type": "stream",
     "text": [
      "/usr/local/lib/python2.7/dist-packages/ipykernel/__main__.py:8: RuntimeWarning: invalid value encountered in greater\n",
      "/usr/local/lib/python2.7/dist-packages/ipykernel/__main__.py:8: RuntimeWarning: invalid value encountered in less\n"
     ]
    }
   ],
   "source": [
    "variables = [u'Prec', u'Tmax', u'Tmin', u'wind']\n",
    "lats_in, lons_in, time_in, input_data = extract_data(f_in, variables)"
   ]
  },
  {
   "cell_type": "code",
   "execution_count": 30,
   "metadata": {},
   "outputs": [],
   "source": [
    "input_data = input_data.transpose((1,2,3,0))"
   ]
  },
  {
   "cell_type": "code",
   "execution_count": 17,
   "metadata": {},
   "outputs": [
    {
     "name": "stderr",
     "output_type": "stream",
     "text": [
      "/usr/local/lib/python2.7/dist-packages/ipykernel/__main__.py:8: RuntimeWarning: invalid value encountered in greater\n"
     ]
    }
   ],
   "source": [
    "lats_out, lons_out, time_out, swe = extract_data(f_out, ['SWE'])"
   ]
  },
  {
   "cell_type": "code",
   "execution_count": 31,
   "metadata": {},
   "outputs": [
    {
     "data": {
      "text/plain": [
       "((4018, 321, 321, 4), (4018, 321, 321))"
      ]
     },
     "execution_count": 31,
     "metadata": {},
     "output_type": "execute_result"
    }
   ],
   "source": [
    "input_data.shape, swe.shape"
   ]
  },
  {
   "cell_type": "code",
   "execution_count": 44,
   "metadata": {},
   "outputs": [],
   "source": [
    "metadata_in = zip(lats_in, lons_in, time_in)\n",
    "metadata_out= zip(lats_out, lons_out, time_out)"
   ]
  },
  {
   "cell_type": "markdown",
   "metadata": {},
   "source": [
    "### Split into train/test, save data to numpy format"
   ]
  },
  {
   "cell_type": "code",
   "execution_count": 34,
   "metadata": {},
   "outputs": [],
   "source": [
    "output_dir = \"./livneh/\"\n",
    "\n",
    "import os\n",
    "if not os.path.exists(output_dir):\n",
    "    os.makedirs(output_dir)"
   ]
  },
  {
   "cell_type": "code",
   "execution_count": 45,
   "metadata": {},
   "outputs": [],
   "source": [
    "frac_train = 0.8\n",
    "idx_train = int(len(input_data) * frac_train)\n",
    "trainA = input_data[:idx_train]\n",
    "testA = input_data[idx_train:]\n",
    "trainA_meta = metadata_in[:idx_train]\n",
    "testA_meta = metadata_in[idx_train:]\n",
    "\n",
    "trainB = swe[:idx_train]\n",
    "testB = swe[idx_train:]\n",
    "trainB_meta = metadata_out[:idx_train]\n",
    "testB_meta = metadata_out[idx_train:]\n"
   ]
  },
  {
   "cell_type": "code",
   "execution_count": 49,
   "metadata": {},
   "outputs": [],
   "source": [
    "# save train/test files\n",
    "\n",
    "np.savez_compressed(output_dir + \"trainA.npz\", data=trainA, variables=variables, metadata=trainA_meta)\n",
    "np.savez_compressed(output_dir + \"trainB.npz\", data=trainB, variables=['SWE'], metadata=trainB_meta)\n",
    "np.savez_compressed(output_dir + \"testA.npz\", data=testA, variables=variables, metadata=testA_meta)\n",
    "np.savez_compressed(output_dir + \"testB.npz\", data=testB, variables=['SWE'], metadata=testB_meta)"
   ]
  },
  {
   "cell_type": "code",
   "execution_count": 50,
   "metadata": {},
   "outputs": [
    {
     "name": "stdout",
     "output_type": "stream",
     "text": [
      "Dumping trainA split...\n",
      "Dumping trainB split...\n",
      "Dumping testA split...\n",
      "Dumping testB split...\n"
     ]
    }
   ],
   "source": [
    "# save each sample in its own file\n",
    "# this mimicks the way GAN frameworks work currently \n",
    "\n",
    "for data, meta, split, fields in zip([trainA, trainB, testA, testB], \n",
    "                             [trainA_meta, trainB_meta, testA_meta, testB_meta], \n",
    "                             [\"trainA\", \"trainB\", \"testA\", \"testB\"],\n",
    "                             [variables, ['SWE'], variables, ['SWE']]):\n",
    "    print \"Dumping %s split...\" % split \n",
    "    cur_dir = output_dir + split + \"/\"\n",
    "    if not os.path.exists(cur_dir):\n",
    "        os.makedirs(cur_dir)\n",
    "    for i,(sample,info) in enumerate(zip(data,meta)):\n",
    "        np.savez_compressed(cur_dir + \"%s.npz\"%i, data=sample, variables=fields, metadata=info)\n",
    " \n",
    "    "
   ]
  },
  {
   "cell_type": "code",
   "execution_count": null,
   "metadata": {},
   "outputs": [],
   "source": [
    "np.load()"
   ]
  }
 ],
 "metadata": {
  "kernelspec": {
   "display_name": "Python 2",
   "language": "python",
   "name": "python2"
  },
  "language_info": {
   "codemirror_mode": {
    "name": "ipython",
    "version": 2
   },
   "file_extension": ".py",
   "mimetype": "text/x-python",
   "name": "python",
   "nbconvert_exporter": "python",
   "pygments_lexer": "ipython2",
   "version": "2.7.12"
  }
 },
 "nbformat": 4,
 "nbformat_minor": 2
}
